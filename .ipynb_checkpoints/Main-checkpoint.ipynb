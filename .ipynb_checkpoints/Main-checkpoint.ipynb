{
 "cells": [
  {
   "cell_type": "markdown",
   "id": "allied-declaration",
   "metadata": {},
   "source": [
    "# Credit Fraud"
   ]
  },
  {
   "cell_type": "markdown",
   "id": "southwest-population",
   "metadata": {},
   "source": [
    "https://www.kaggle.com/mlg-ulb/creditcardfraud"
   ]
  },
  {
   "cell_type": "code",
   "execution_count": 2,
   "id": "greatest-bradley",
   "metadata": {},
   "outputs": [],
   "source": [
    "import pandas as pd\n",
    "import numpy as np\n",
    "import seaborn as sns\n",
    "import matplotlib.pyplot as plt\n",
    "%matplotlib inline"
   ]
  },
  {
   "cell_type": "code",
   "execution_count": 3,
   "id": "early-interval",
   "metadata": {
    "scrolled": true
   },
   "outputs": [
    {
     "data": {
      "text/html": [
       "<div>\n",
       "<style scoped>\n",
       "    .dataframe tbody tr th:only-of-type {\n",
       "        vertical-align: middle;\n",
       "    }\n",
       "\n",
       "    .dataframe tbody tr th {\n",
       "        vertical-align: top;\n",
       "    }\n",
       "\n",
       "    .dataframe thead th {\n",
       "        text-align: right;\n",
       "    }\n",
       "</style>\n",
       "<table border=\"1\" class=\"dataframe\">\n",
       "  <thead>\n",
       "    <tr style=\"text-align: right;\">\n",
       "      <th></th>\n",
       "      <th>Time</th>\n",
       "      <th>V1</th>\n",
       "      <th>V2</th>\n",
       "      <th>V3</th>\n",
       "      <th>V4</th>\n",
       "      <th>V5</th>\n",
       "      <th>V6</th>\n",
       "      <th>V7</th>\n",
       "      <th>V8</th>\n",
       "      <th>V9</th>\n",
       "      <th>...</th>\n",
       "      <th>V21</th>\n",
       "      <th>V22</th>\n",
       "      <th>V23</th>\n",
       "      <th>V24</th>\n",
       "      <th>V25</th>\n",
       "      <th>V26</th>\n",
       "      <th>V27</th>\n",
       "      <th>V28</th>\n",
       "      <th>Amount</th>\n",
       "      <th>Class</th>\n",
       "    </tr>\n",
       "  </thead>\n",
       "  <tbody>\n",
       "    <tr>\n",
       "      <th>0</th>\n",
       "      <td>0.0</td>\n",
       "      <td>-1.359807</td>\n",
       "      <td>-0.072781</td>\n",
       "      <td>2.536347</td>\n",
       "      <td>1.378155</td>\n",
       "      <td>-0.338321</td>\n",
       "      <td>0.462388</td>\n",
       "      <td>0.239599</td>\n",
       "      <td>0.098698</td>\n",
       "      <td>0.363787</td>\n",
       "      <td>...</td>\n",
       "      <td>-0.018307</td>\n",
       "      <td>0.277838</td>\n",
       "      <td>-0.110474</td>\n",
       "      <td>0.066928</td>\n",
       "      <td>0.128539</td>\n",
       "      <td>-0.189115</td>\n",
       "      <td>0.133558</td>\n",
       "      <td>-0.021053</td>\n",
       "      <td>149.62</td>\n",
       "      <td>0</td>\n",
       "    </tr>\n",
       "    <tr>\n",
       "      <th>1</th>\n",
       "      <td>0.0</td>\n",
       "      <td>1.191857</td>\n",
       "      <td>0.266151</td>\n",
       "      <td>0.166480</td>\n",
       "      <td>0.448154</td>\n",
       "      <td>0.060018</td>\n",
       "      <td>-0.082361</td>\n",
       "      <td>-0.078803</td>\n",
       "      <td>0.085102</td>\n",
       "      <td>-0.255425</td>\n",
       "      <td>...</td>\n",
       "      <td>-0.225775</td>\n",
       "      <td>-0.638672</td>\n",
       "      <td>0.101288</td>\n",
       "      <td>-0.339846</td>\n",
       "      <td>0.167170</td>\n",
       "      <td>0.125895</td>\n",
       "      <td>-0.008983</td>\n",
       "      <td>0.014724</td>\n",
       "      <td>2.69</td>\n",
       "      <td>0</td>\n",
       "    </tr>\n",
       "    <tr>\n",
       "      <th>2</th>\n",
       "      <td>1.0</td>\n",
       "      <td>-1.358354</td>\n",
       "      <td>-1.340163</td>\n",
       "      <td>1.773209</td>\n",
       "      <td>0.379780</td>\n",
       "      <td>-0.503198</td>\n",
       "      <td>1.800499</td>\n",
       "      <td>0.791461</td>\n",
       "      <td>0.247676</td>\n",
       "      <td>-1.514654</td>\n",
       "      <td>...</td>\n",
       "      <td>0.247998</td>\n",
       "      <td>0.771679</td>\n",
       "      <td>0.909412</td>\n",
       "      <td>-0.689281</td>\n",
       "      <td>-0.327642</td>\n",
       "      <td>-0.139097</td>\n",
       "      <td>-0.055353</td>\n",
       "      <td>-0.059752</td>\n",
       "      <td>378.66</td>\n",
       "      <td>0</td>\n",
       "    </tr>\n",
       "    <tr>\n",
       "      <th>3</th>\n",
       "      <td>1.0</td>\n",
       "      <td>-0.966272</td>\n",
       "      <td>-0.185226</td>\n",
       "      <td>1.792993</td>\n",
       "      <td>-0.863291</td>\n",
       "      <td>-0.010309</td>\n",
       "      <td>1.247203</td>\n",
       "      <td>0.237609</td>\n",
       "      <td>0.377436</td>\n",
       "      <td>-1.387024</td>\n",
       "      <td>...</td>\n",
       "      <td>-0.108300</td>\n",
       "      <td>0.005274</td>\n",
       "      <td>-0.190321</td>\n",
       "      <td>-1.175575</td>\n",
       "      <td>0.647376</td>\n",
       "      <td>-0.221929</td>\n",
       "      <td>0.062723</td>\n",
       "      <td>0.061458</td>\n",
       "      <td>123.50</td>\n",
       "      <td>0</td>\n",
       "    </tr>\n",
       "    <tr>\n",
       "      <th>4</th>\n",
       "      <td>2.0</td>\n",
       "      <td>-1.158233</td>\n",
       "      <td>0.877737</td>\n",
       "      <td>1.548718</td>\n",
       "      <td>0.403034</td>\n",
       "      <td>-0.407193</td>\n",
       "      <td>0.095921</td>\n",
       "      <td>0.592941</td>\n",
       "      <td>-0.270533</td>\n",
       "      <td>0.817739</td>\n",
       "      <td>...</td>\n",
       "      <td>-0.009431</td>\n",
       "      <td>0.798278</td>\n",
       "      <td>-0.137458</td>\n",
       "      <td>0.141267</td>\n",
       "      <td>-0.206010</td>\n",
       "      <td>0.502292</td>\n",
       "      <td>0.219422</td>\n",
       "      <td>0.215153</td>\n",
       "      <td>69.99</td>\n",
       "      <td>0</td>\n",
       "    </tr>\n",
       "  </tbody>\n",
       "</table>\n",
       "<p>5 rows × 31 columns</p>\n",
       "</div>"
      ],
      "text/plain": [
       "   Time        V1        V2        V3        V4        V5        V6        V7  \\\n",
       "0   0.0 -1.359807 -0.072781  2.536347  1.378155 -0.338321  0.462388  0.239599   \n",
       "1   0.0  1.191857  0.266151  0.166480  0.448154  0.060018 -0.082361 -0.078803   \n",
       "2   1.0 -1.358354 -1.340163  1.773209  0.379780 -0.503198  1.800499  0.791461   \n",
       "3   1.0 -0.966272 -0.185226  1.792993 -0.863291 -0.010309  1.247203  0.237609   \n",
       "4   2.0 -1.158233  0.877737  1.548718  0.403034 -0.407193  0.095921  0.592941   \n",
       "\n",
       "         V8        V9  ...       V21       V22       V23       V24       V25  \\\n",
       "0  0.098698  0.363787  ... -0.018307  0.277838 -0.110474  0.066928  0.128539   \n",
       "1  0.085102 -0.255425  ... -0.225775 -0.638672  0.101288 -0.339846  0.167170   \n",
       "2  0.247676 -1.514654  ...  0.247998  0.771679  0.909412 -0.689281 -0.327642   \n",
       "3  0.377436 -1.387024  ... -0.108300  0.005274 -0.190321 -1.175575  0.647376   \n",
       "4 -0.270533  0.817739  ... -0.009431  0.798278 -0.137458  0.141267 -0.206010   \n",
       "\n",
       "        V26       V27       V28  Amount  Class  \n",
       "0 -0.189115  0.133558 -0.021053  149.62      0  \n",
       "1  0.125895 -0.008983  0.014724    2.69      0  \n",
       "2 -0.139097 -0.055353 -0.059752  378.66      0  \n",
       "3 -0.221929  0.062723  0.061458  123.50      0  \n",
       "4  0.502292  0.219422  0.215153   69.99      0  \n",
       "\n",
       "[5 rows x 31 columns]"
      ]
     },
     "execution_count": 3,
     "metadata": {},
     "output_type": "execute_result"
    }
   ],
   "source": [
    "data = pd.read_csv('creditcard.csv')\n",
    "data.head()"
   ]
  },
  {
   "cell_type": "code",
   "execution_count": 54,
   "id": "international-interaction",
   "metadata": {},
   "outputs": [
    {
     "name": "stdout",
     "output_type": "stream",
     "text": [
      "<class 'pandas.core.frame.DataFrame'>\n",
      "RangeIndex: 284807 entries, 0 to 284806\n",
      "Data columns (total 31 columns):\n",
      " #   Column  Non-Null Count   Dtype  \n",
      "---  ------  --------------   -----  \n",
      " 0   Time    284807 non-null  float64\n",
      " 1   V1      284807 non-null  float64\n",
      " 2   V2      284807 non-null  float64\n",
      " 3   V3      284807 non-null  float64\n",
      " 4   V4      284807 non-null  float64\n",
      " 5   V5      284807 non-null  float64\n",
      " 6   V6      284807 non-null  float64\n",
      " 7   V7      284807 non-null  float64\n",
      " 8   V8      284807 non-null  float64\n",
      " 9   V9      284807 non-null  float64\n",
      " 10  V10     284807 non-null  float64\n",
      " 11  V11     284807 non-null  float64\n",
      " 12  V12     284807 non-null  float64\n",
      " 13  V13     284807 non-null  float64\n",
      " 14  V14     284807 non-null  float64\n",
      " 15  V15     284807 non-null  float64\n",
      " 16  V16     284807 non-null  float64\n",
      " 17  V17     284807 non-null  float64\n",
      " 18  V18     284807 non-null  float64\n",
      " 19  V19     284807 non-null  float64\n",
      " 20  V20     284807 non-null  float64\n",
      " 21  V21     284807 non-null  float64\n",
      " 22  V22     284807 non-null  float64\n",
      " 23  V23     284807 non-null  float64\n",
      " 24  V24     284807 non-null  float64\n",
      " 25  V25     284807 non-null  float64\n",
      " 26  V26     284807 non-null  float64\n",
      " 27  V27     284807 non-null  float64\n",
      " 28  V28     284807 non-null  float64\n",
      " 29  Amount  284807 non-null  float64\n",
      " 30  Class   284807 non-null  int64  \n",
      "dtypes: float64(30), int64(1)\n",
      "memory usage: 67.4 MB\n"
     ]
    }
   ],
   "source": [
    "data.info()"
   ]
  },
  {
   "cell_type": "code",
   "execution_count": 6,
   "id": "fabulous-macintosh",
   "metadata": {},
   "outputs": [
    {
     "data": {
      "text/html": [
       "<div>\n",
       "<style scoped>\n",
       "    .dataframe tbody tr th:only-of-type {\n",
       "        vertical-align: middle;\n",
       "    }\n",
       "\n",
       "    .dataframe tbody tr th {\n",
       "        vertical-align: top;\n",
       "    }\n",
       "\n",
       "    .dataframe thead th {\n",
       "        text-align: right;\n",
       "    }\n",
       "</style>\n",
       "<table border=\"1\" class=\"dataframe\">\n",
       "  <thead>\n",
       "    <tr style=\"text-align: right;\">\n",
       "      <th></th>\n",
       "      <th>Time</th>\n",
       "      <th>V1</th>\n",
       "      <th>V2</th>\n",
       "      <th>V3</th>\n",
       "      <th>V4</th>\n",
       "      <th>V5</th>\n",
       "      <th>V6</th>\n",
       "      <th>V7</th>\n",
       "      <th>V8</th>\n",
       "      <th>V9</th>\n",
       "      <th>...</th>\n",
       "      <th>V21</th>\n",
       "      <th>V22</th>\n",
       "      <th>V23</th>\n",
       "      <th>V24</th>\n",
       "      <th>V25</th>\n",
       "      <th>V26</th>\n",
       "      <th>V27</th>\n",
       "      <th>V28</th>\n",
       "      <th>Amount</th>\n",
       "      <th>Class</th>\n",
       "    </tr>\n",
       "  </thead>\n",
       "  <tbody>\n",
       "    <tr>\n",
       "      <th>count</th>\n",
       "      <td>284807.000000</td>\n",
       "      <td>2.848070e+05</td>\n",
       "      <td>2.848070e+05</td>\n",
       "      <td>2.848070e+05</td>\n",
       "      <td>2.848070e+05</td>\n",
       "      <td>2.848070e+05</td>\n",
       "      <td>2.848070e+05</td>\n",
       "      <td>2.848070e+05</td>\n",
       "      <td>2.848070e+05</td>\n",
       "      <td>2.848070e+05</td>\n",
       "      <td>...</td>\n",
       "      <td>2.848070e+05</td>\n",
       "      <td>2.848070e+05</td>\n",
       "      <td>2.848070e+05</td>\n",
       "      <td>2.848070e+05</td>\n",
       "      <td>2.848070e+05</td>\n",
       "      <td>2.848070e+05</td>\n",
       "      <td>2.848070e+05</td>\n",
       "      <td>2.848070e+05</td>\n",
       "      <td>284807.000000</td>\n",
       "      <td>284807.000000</td>\n",
       "    </tr>\n",
       "    <tr>\n",
       "      <th>mean</th>\n",
       "      <td>94813.859575</td>\n",
       "      <td>3.918649e-15</td>\n",
       "      <td>5.682686e-16</td>\n",
       "      <td>-8.761736e-15</td>\n",
       "      <td>2.811118e-15</td>\n",
       "      <td>-1.552103e-15</td>\n",
       "      <td>2.040130e-15</td>\n",
       "      <td>-1.698953e-15</td>\n",
       "      <td>-1.893285e-16</td>\n",
       "      <td>-3.147640e-15</td>\n",
       "      <td>...</td>\n",
       "      <td>1.473120e-16</td>\n",
       "      <td>8.042109e-16</td>\n",
       "      <td>5.282512e-16</td>\n",
       "      <td>4.456271e-15</td>\n",
       "      <td>1.426896e-15</td>\n",
       "      <td>1.701640e-15</td>\n",
       "      <td>-3.662252e-16</td>\n",
       "      <td>-1.217809e-16</td>\n",
       "      <td>88.349619</td>\n",
       "      <td>0.001727</td>\n",
       "    </tr>\n",
       "    <tr>\n",
       "      <th>std</th>\n",
       "      <td>47488.145955</td>\n",
       "      <td>1.958696e+00</td>\n",
       "      <td>1.651309e+00</td>\n",
       "      <td>1.516255e+00</td>\n",
       "      <td>1.415869e+00</td>\n",
       "      <td>1.380247e+00</td>\n",
       "      <td>1.332271e+00</td>\n",
       "      <td>1.237094e+00</td>\n",
       "      <td>1.194353e+00</td>\n",
       "      <td>1.098632e+00</td>\n",
       "      <td>...</td>\n",
       "      <td>7.345240e-01</td>\n",
       "      <td>7.257016e-01</td>\n",
       "      <td>6.244603e-01</td>\n",
       "      <td>6.056471e-01</td>\n",
       "      <td>5.212781e-01</td>\n",
       "      <td>4.822270e-01</td>\n",
       "      <td>4.036325e-01</td>\n",
       "      <td>3.300833e-01</td>\n",
       "      <td>250.120109</td>\n",
       "      <td>0.041527</td>\n",
       "    </tr>\n",
       "    <tr>\n",
       "      <th>min</th>\n",
       "      <td>0.000000</td>\n",
       "      <td>-5.640751e+01</td>\n",
       "      <td>-7.271573e+01</td>\n",
       "      <td>-4.832559e+01</td>\n",
       "      <td>-5.683171e+00</td>\n",
       "      <td>-1.137433e+02</td>\n",
       "      <td>-2.616051e+01</td>\n",
       "      <td>-4.355724e+01</td>\n",
       "      <td>-7.321672e+01</td>\n",
       "      <td>-1.343407e+01</td>\n",
       "      <td>...</td>\n",
       "      <td>-3.483038e+01</td>\n",
       "      <td>-1.093314e+01</td>\n",
       "      <td>-4.480774e+01</td>\n",
       "      <td>-2.836627e+00</td>\n",
       "      <td>-1.029540e+01</td>\n",
       "      <td>-2.604551e+00</td>\n",
       "      <td>-2.256568e+01</td>\n",
       "      <td>-1.543008e+01</td>\n",
       "      <td>0.000000</td>\n",
       "      <td>0.000000</td>\n",
       "    </tr>\n",
       "    <tr>\n",
       "      <th>25%</th>\n",
       "      <td>54201.500000</td>\n",
       "      <td>-9.203734e-01</td>\n",
       "      <td>-5.985499e-01</td>\n",
       "      <td>-8.903648e-01</td>\n",
       "      <td>-8.486401e-01</td>\n",
       "      <td>-6.915971e-01</td>\n",
       "      <td>-7.682956e-01</td>\n",
       "      <td>-5.540759e-01</td>\n",
       "      <td>-2.086297e-01</td>\n",
       "      <td>-6.430976e-01</td>\n",
       "      <td>...</td>\n",
       "      <td>-2.283949e-01</td>\n",
       "      <td>-5.423504e-01</td>\n",
       "      <td>-1.618463e-01</td>\n",
       "      <td>-3.545861e-01</td>\n",
       "      <td>-3.171451e-01</td>\n",
       "      <td>-3.269839e-01</td>\n",
       "      <td>-7.083953e-02</td>\n",
       "      <td>-5.295979e-02</td>\n",
       "      <td>5.600000</td>\n",
       "      <td>0.000000</td>\n",
       "    </tr>\n",
       "    <tr>\n",
       "      <th>50%</th>\n",
       "      <td>84692.000000</td>\n",
       "      <td>1.810880e-02</td>\n",
       "      <td>6.548556e-02</td>\n",
       "      <td>1.798463e-01</td>\n",
       "      <td>-1.984653e-02</td>\n",
       "      <td>-5.433583e-02</td>\n",
       "      <td>-2.741871e-01</td>\n",
       "      <td>4.010308e-02</td>\n",
       "      <td>2.235804e-02</td>\n",
       "      <td>-5.142873e-02</td>\n",
       "      <td>...</td>\n",
       "      <td>-2.945017e-02</td>\n",
       "      <td>6.781943e-03</td>\n",
       "      <td>-1.119293e-02</td>\n",
       "      <td>4.097606e-02</td>\n",
       "      <td>1.659350e-02</td>\n",
       "      <td>-5.213911e-02</td>\n",
       "      <td>1.342146e-03</td>\n",
       "      <td>1.124383e-02</td>\n",
       "      <td>22.000000</td>\n",
       "      <td>0.000000</td>\n",
       "    </tr>\n",
       "    <tr>\n",
       "      <th>75%</th>\n",
       "      <td>139320.500000</td>\n",
       "      <td>1.315642e+00</td>\n",
       "      <td>8.037239e-01</td>\n",
       "      <td>1.027196e+00</td>\n",
       "      <td>7.433413e-01</td>\n",
       "      <td>6.119264e-01</td>\n",
       "      <td>3.985649e-01</td>\n",
       "      <td>5.704361e-01</td>\n",
       "      <td>3.273459e-01</td>\n",
       "      <td>5.971390e-01</td>\n",
       "      <td>...</td>\n",
       "      <td>1.863772e-01</td>\n",
       "      <td>5.285536e-01</td>\n",
       "      <td>1.476421e-01</td>\n",
       "      <td>4.395266e-01</td>\n",
       "      <td>3.507156e-01</td>\n",
       "      <td>2.409522e-01</td>\n",
       "      <td>9.104512e-02</td>\n",
       "      <td>7.827995e-02</td>\n",
       "      <td>77.165000</td>\n",
       "      <td>0.000000</td>\n",
       "    </tr>\n",
       "    <tr>\n",
       "      <th>max</th>\n",
       "      <td>172792.000000</td>\n",
       "      <td>2.454930e+00</td>\n",
       "      <td>2.205773e+01</td>\n",
       "      <td>9.382558e+00</td>\n",
       "      <td>1.687534e+01</td>\n",
       "      <td>3.480167e+01</td>\n",
       "      <td>7.330163e+01</td>\n",
       "      <td>1.205895e+02</td>\n",
       "      <td>2.000721e+01</td>\n",
       "      <td>1.559499e+01</td>\n",
       "      <td>...</td>\n",
       "      <td>2.720284e+01</td>\n",
       "      <td>1.050309e+01</td>\n",
       "      <td>2.252841e+01</td>\n",
       "      <td>4.584549e+00</td>\n",
       "      <td>7.519589e+00</td>\n",
       "      <td>3.517346e+00</td>\n",
       "      <td>3.161220e+01</td>\n",
       "      <td>3.384781e+01</td>\n",
       "      <td>25691.160000</td>\n",
       "      <td>1.000000</td>\n",
       "    </tr>\n",
       "  </tbody>\n",
       "</table>\n",
       "<p>8 rows × 31 columns</p>\n",
       "</div>"
      ],
      "text/plain": [
       "                Time            V1            V2            V3            V4  \\\n",
       "count  284807.000000  2.848070e+05  2.848070e+05  2.848070e+05  2.848070e+05   \n",
       "mean    94813.859575  3.918649e-15  5.682686e-16 -8.761736e-15  2.811118e-15   \n",
       "std     47488.145955  1.958696e+00  1.651309e+00  1.516255e+00  1.415869e+00   \n",
       "min         0.000000 -5.640751e+01 -7.271573e+01 -4.832559e+01 -5.683171e+00   \n",
       "25%     54201.500000 -9.203734e-01 -5.985499e-01 -8.903648e-01 -8.486401e-01   \n",
       "50%     84692.000000  1.810880e-02  6.548556e-02  1.798463e-01 -1.984653e-02   \n",
       "75%    139320.500000  1.315642e+00  8.037239e-01  1.027196e+00  7.433413e-01   \n",
       "max    172792.000000  2.454930e+00  2.205773e+01  9.382558e+00  1.687534e+01   \n",
       "\n",
       "                 V5            V6            V7            V8            V9  \\\n",
       "count  2.848070e+05  2.848070e+05  2.848070e+05  2.848070e+05  2.848070e+05   \n",
       "mean  -1.552103e-15  2.040130e-15 -1.698953e-15 -1.893285e-16 -3.147640e-15   \n",
       "std    1.380247e+00  1.332271e+00  1.237094e+00  1.194353e+00  1.098632e+00   \n",
       "min   -1.137433e+02 -2.616051e+01 -4.355724e+01 -7.321672e+01 -1.343407e+01   \n",
       "25%   -6.915971e-01 -7.682956e-01 -5.540759e-01 -2.086297e-01 -6.430976e-01   \n",
       "50%   -5.433583e-02 -2.741871e-01  4.010308e-02  2.235804e-02 -5.142873e-02   \n",
       "75%    6.119264e-01  3.985649e-01  5.704361e-01  3.273459e-01  5.971390e-01   \n",
       "max    3.480167e+01  7.330163e+01  1.205895e+02  2.000721e+01  1.559499e+01   \n",
       "\n",
       "       ...           V21           V22           V23           V24  \\\n",
       "count  ...  2.848070e+05  2.848070e+05  2.848070e+05  2.848070e+05   \n",
       "mean   ...  1.473120e-16  8.042109e-16  5.282512e-16  4.456271e-15   \n",
       "std    ...  7.345240e-01  7.257016e-01  6.244603e-01  6.056471e-01   \n",
       "min    ... -3.483038e+01 -1.093314e+01 -4.480774e+01 -2.836627e+00   \n",
       "25%    ... -2.283949e-01 -5.423504e-01 -1.618463e-01 -3.545861e-01   \n",
       "50%    ... -2.945017e-02  6.781943e-03 -1.119293e-02  4.097606e-02   \n",
       "75%    ...  1.863772e-01  5.285536e-01  1.476421e-01  4.395266e-01   \n",
       "max    ...  2.720284e+01  1.050309e+01  2.252841e+01  4.584549e+00   \n",
       "\n",
       "                V25           V26           V27           V28         Amount  \\\n",
       "count  2.848070e+05  2.848070e+05  2.848070e+05  2.848070e+05  284807.000000   \n",
       "mean   1.426896e-15  1.701640e-15 -3.662252e-16 -1.217809e-16      88.349619   \n",
       "std    5.212781e-01  4.822270e-01  4.036325e-01  3.300833e-01     250.120109   \n",
       "min   -1.029540e+01 -2.604551e+00 -2.256568e+01 -1.543008e+01       0.000000   \n",
       "25%   -3.171451e-01 -3.269839e-01 -7.083953e-02 -5.295979e-02       5.600000   \n",
       "50%    1.659350e-02 -5.213911e-02  1.342146e-03  1.124383e-02      22.000000   \n",
       "75%    3.507156e-01  2.409522e-01  9.104512e-02  7.827995e-02      77.165000   \n",
       "max    7.519589e+00  3.517346e+00  3.161220e+01  3.384781e+01   25691.160000   \n",
       "\n",
       "               Class  \n",
       "count  284807.000000  \n",
       "mean        0.001727  \n",
       "std         0.041527  \n",
       "min         0.000000  \n",
       "25%         0.000000  \n",
       "50%         0.000000  \n",
       "75%         0.000000  \n",
       "max         1.000000  \n",
       "\n",
       "[8 rows x 31 columns]"
      ]
     },
     "execution_count": 6,
     "metadata": {},
     "output_type": "execute_result"
    }
   ],
   "source": [
    "data.describe()"
   ]
  },
  {
   "cell_type": "code",
   "execution_count": 22,
   "id": "promising-isolation",
   "metadata": {
    "scrolled": true
   },
   "outputs": [
    {
     "data": {
      "text/plain": [
       "<AxesSubplot:xlabel='Class', ylabel='count'>"
      ]
     },
     "execution_count": 22,
     "metadata": {},
     "output_type": "execute_result"
    },
    {
     "data": {
      "image/png": "[encoded data removed]",
      "text/plain": [
       "<Figure size 864x504 with 1 Axes>"
      ]
     },
     "metadata": {
      "needs_background": "light"
     },
     "output_type": "display_data"
    }
   ],
   "source": [
    "plt.figure(figsize=(12,7))\n",
    "sns.countplot(data=data, x= 'Class')"
   ]
  },
  {
   "cell_type": "code",
   "execution_count": 42,
   "id": "downtown-hazard",
   "metadata": {},
   "outputs": [
    {
     "data": {
      "text/plain": [
       "<seaborn.axisgrid.FacetGrid at 0x22dc62b8080>"
      ]
     },
     "execution_count": 42,
     "metadata": {},
     "output_type": "execute_result"
    },
    {
     "data": {
      "image/png": "[encoded data removed]",
      "text/plain": [
       "<Figure size 360x360 with 1 Axes>"
      ]
     },
     "metadata": {
      "needs_background": "light"
     },
     "output_type": "display_data"
    }
   ],
   "source": [
    "# fig, ax =plt.subplots(1,2)\n",
    "\n",
    "data_1 = data[data['Class']==1]\n",
    "sns.lmplot(data=data_1,x='Time',y='Amount')\n",
    "# sns.scatterplot(data=data,x='Time',y='Amount',ax=ax[1])"
   ]
  },
  {
   "cell_type": "code",
   "execution_count": 44,
   "id": "functional-arbitration",
   "metadata": {},
   "outputs": [
    {
     "data": {
      "text/plain": [
       "<seaborn.axisgrid.FacetGrid at 0x22dc63cb668>"
      ]
     },
     "execution_count": 44,
     "metadata": {},
     "output_type": "execute_result"
    },
    {
     "data": {
      "image/png": "[encoded data removed]",
      "text/plain": [
       "<Figure size 360x360 with 1 Axes>"
      ]
     },
     "metadata": {
      "needs_background": "light"
     },
     "output_type": "display_data"
    }
   ],
   "source": [
    "sns.lmplot(data=data[:1000],x='Time',y='Amount')"
   ]
  },
  {
   "cell_type": "code",
   "execution_count": 47,
   "id": "specific-kentucky",
   "metadata": {},
   "outputs": [
    {
     "name": "stderr",
     "output_type": "stream",
     "text": [
      "C:\\Users\\kchun\\Anaconda3\\lib\\site-packages\\seaborn\\distributions.py:2557: FutureWarning: `distplot` is a deprecated function and will be removed in a future version. Please adapt your code to use either `displot` (a figure-level function with similar flexibility) or `histplot` (an axes-level function for histograms).\n",
      "  warnings.warn(msg, FutureWarning)\n"
     ]
    },
    {
     "data": {
      "text/plain": [
       "<AxesSubplot:xlabel='Amount', ylabel='Density'>"
      ]
     },
     "execution_count": 47,
     "metadata": {},
     "output_type": "execute_result"
    },
    {
     "data": {
      "image/png": "[encoded data removed]",
      "text/plain": [
       "<Figure size 432x288 with 1 Axes>"
      ]
     },
     "metadata": {
      "needs_background": "light"
     },
     "output_type": "display_data"
    }
   ],
   "source": [
    "sns.distplot(a = data_1['Amount'])"
   ]
  },
  {
   "cell_type": "code",
   "execution_count": 48,
   "id": "quick-advocate",
   "metadata": {},
   "outputs": [
    {
     "name": "stderr",
     "output_type": "stream",
     "text": [
      "C:\\Users\\kchun\\Anaconda3\\lib\\site-packages\\seaborn\\distributions.py:2557: FutureWarning: `distplot` is a deprecated function and will be removed in a future version. Please adapt your code to use either `displot` (a figure-level function with similar flexibility) or `histplot` (an axes-level function for histograms).\n",
      "  warnings.warn(msg, FutureWarning)\n"
     ]
    },
    {
     "data": {
      "text/plain": [
       "<AxesSubplot:xlabel='Amount', ylabel='Density'>"
      ]
     },
     "execution_count": 48,
     "metadata": {},
     "output_type": "execute_result"
    },
    {
     "data": {
      "image/png": "[encoded data removed]",
      "text/plain": [
       "<Figure size 432x288 with 1 Axes>"
      ]
     },
     "metadata": {
      "needs_background": "light"
     },
     "output_type": "display_data"
    }
   ],
   "source": [
    "sns.distplot(a = data['Amount'])"
   ]
  },
  {
   "cell_type": "code",
   "execution_count": 53,
   "id": "curious-dialogue",
   "metadata": {},
   "outputs": [
    {
     "data": {
      "text/plain": [
       "<AxesSubplot:>"
      ]
     },
     "execution_count": 53,
     "metadata": {},
     "output_type": "execute_result"
    },
    {
     "data": {
      "image/png": "[encoded data removed]",
      "text/plain": [
       "<Figure size 1080x504 with 3 Axes>"
      ]
     },
     "metadata": {
      "needs_background": "light"
     },
     "output_type": "display_data"
    },
    {
     "data": {
      "text/plain": [
       "Time      0\n",
       "V1        0\n",
       "V2        0\n",
       "V3        0\n",
       "V4        0\n",
       "V5        0\n",
       "V6        0\n",
       "V7        0\n",
       "V8        0\n",
       "V9        0\n",
       "V10       0\n",
       "V11       0\n",
       "V12       0\n",
       "V13       0\n",
       "V14       0\n",
       "V15       0\n",
       "V16       0\n",
       "V17       0\n",
       "V18       0\n",
       "V19       0\n",
       "V20       0\n",
       "V21       0\n",
       "V22       0\n",
       "V23       0\n",
       "V24       0\n",
       "V25       0\n",
       "V26       0\n",
       "V27       0\n",
       "V28       0\n",
       "Amount    0\n",
       "Class     0\n",
       "dtype: int64"
      ]
     },
     "execution_count": 53,
     "metadata": {},
     "output_type": "execute_result"
    }
   ],
   "source": [
    "import missingno as msno\n",
    "msno.bar(data, figsize=(15,7),color='steelblue')\n",
    "plt.show()\n",
    "data.isnull().sum()"
   ]
  },
  {
   "cell_type": "code",
   "execution_count": 57,
   "id": "danish-light",
   "metadata": {},
   "outputs": [
    {
     "data": {
      "text/plain": [
       "False    283726\n",
       "True       1081\n",
       "dtype: int64"
      ]
     },
     "execution_count": 57,
     "metadata": {},
     "output_type": "execute_result"
    }
   ],
   "source": [
    "data.duplicated().value_counts()"
   ]
  },
  {
   "cell_type": "code",
   "execution_count": 4,
   "id": "asian-snapshot",
   "metadata": {},
   "outputs": [
    {
     "name": "stdout",
     "output_type": "stream",
     "text": [
      "<class 'pandas.core.frame.DataFrame'>\n",
      "Int64Index: 282953 entries, 0 to 284806\n",
      "Data columns (total 31 columns):\n",
      " #   Column  Non-Null Count   Dtype  \n",
      "---  ------  --------------   -----  \n",
      " 0   Time    282953 non-null  float64\n",
      " 1   V1      282953 non-null  float64\n",
      " 2   V2      282953 non-null  float64\n",
      " 3   V3      282953 non-null  float64\n",
      " 4   V4      282953 non-null  float64\n",
      " 5   V5      282953 non-null  float64\n",
      " 6   V6      282953 non-null  float64\n",
      " 7   V7      282953 non-null  float64\n",
      " 8   V8      282953 non-null  float64\n",
      " 9   V9      282953 non-null  float64\n",
      " 10  V10     282953 non-null  float64\n",
      " 11  V11     282953 non-null  float64\n",
      " 12  V12     282953 non-null  float64\n",
      " 13  V13     282953 non-null  float64\n",
      " 14  V14     282953 non-null  float64\n",
      " 15  V15     282953 non-null  float64\n",
      " 16  V16     282953 non-null  float64\n",
      " 17  V17     282953 non-null  float64\n",
      " 18  V18     282953 non-null  float64\n",
      " 19  V19     282953 non-null  float64\n",
      " 20  V20     282953 non-null  float64\n",
      " 21  V21     282953 non-null  float64\n",
      " 22  V22     282953 non-null  float64\n",
      " 23  V23     282953 non-null  float64\n",
      " 24  V24     282953 non-null  float64\n",
      " 25  V25     282953 non-null  float64\n",
      " 26  V26     282953 non-null  float64\n",
      " 27  V27     282953 non-null  float64\n",
      " 28  V28     282953 non-null  float64\n",
      " 29  Amount  282953 non-null  float64\n",
      " 30  Class   282953 non-null  int64  \n",
      "dtypes: float64(30), int64(1)\n",
      "memory usage: 69.1 MB\n"
     ]
    }
   ],
   "source": [
    "data.drop_duplicates(keep=False,inplace=True)\n",
    "data.info()"
   ]
  },
  {
   "cell_type": "markdown",
   "id": "alpine-solid",
   "metadata": {},
   "source": [
    "## Model Building - Random Forest"
   ]
  },
  {
   "cell_type": "code",
   "execution_count": 5,
   "id": "connected-society",
   "metadata": {},
   "outputs": [],
   "source": [
    "from sklearn.model_selection import train_test_split\n",
    "X = data.drop('Class',axis=1)\n",
    "y = data['Class']\n",
    "\n",
    "X_train, X_test, y_train, y_test = train_test_split(X, y, test_size=0.3, random_state=97,stratify=y)"
   ]
  },
  {
   "cell_type": "code",
   "execution_count": 78,
   "id": "possible-extent",
   "metadata": {},
   "outputs": [
    {
     "name": "stdout",
     "output_type": "stream",
     "text": [
      "Wall time: 12min 5s\n"
     ]
    },
    {
     "data": {
      "text/plain": [
       "RandomForestClassifier(n_estimators=500, random_state=97)"
      ]
     },
     "execution_count": 78,
     "metadata": {},
     "output_type": "execute_result"
    }
   ],
   "source": [
    "%%time\n",
    "from sklearn.ensemble import RandomForestClassifier\n",
    "\n",
    "rfc = RandomForestClassifier(n_estimators=500,random_state=97)\n",
    "rfc.fit(X_train,y_train)"
   ]
  },
  {
   "cell_type": "markdown",
   "id": "studied-cologne",
   "metadata": {},
   "source": [
    "### Model Predictions and Evaluations"
   ]
  },
  {
   "cell_type": "code",
   "execution_count": 79,
   "id": "fifteen-bradford",
   "metadata": {},
   "outputs": [],
   "source": [
    "rfpred = rfc.predict(X_test)"
   ]
  },
  {
   "cell_type": "code",
   "execution_count": 85,
   "id": "funded-europe",
   "metadata": {},
   "outputs": [
    {
     "name": "stdout",
     "output_type": "stream",
     "text": [
      "The roc_auc for this model is 89.13%\n"
     ]
    }
   ],
   "source": [
    "from sklearn.metrics import roc_auc_score,roc_curve\n",
    "scoring = roc_auc_score(y_test,rfpred)*100\n",
    "print('The roc_auc for this model is '+str(round(scoring,ndigits=2))+'%')"
   ]
  },
  {
   "cell_type": "markdown",
   "id": "strategic-orchestra",
   "metadata": {},
   "source": [
    "From this approach, the model took quite a long time of 12min to fit the training data set which is quite long for random forest and no gridsearch was used. With this result, I decide to change my approach to training models."
   ]
  },
  {
   "cell_type": "markdown",
   "id": "intended-marketing",
   "metadata": {},
   "source": [
    "I will now use PCA to further reduce the dimensions of the features to 2 so that our model fitting will be faster. Given that PCA was already done to hide the sensitive information, the number of dimensions given is still too many. I will then use oversampling to combat the class imbalance. I will use SMOTE which works by creating synthetic points from the minority class. SMOTE picks the distance between the closest neighbors of the minority class, in between these distances it creates synthetic points. With this in mind, all the more important PCA should be used as we are almost doubling the size of our dataset with oversampling."
   ]
  },
  {
   "cell_type": "markdown",
   "id": "basic-conservation",
   "metadata": {},
   "source": [
    "###### In Summary: Scale > PCA > SMOTE > Models >auc_roc comparison"
   ]
  },
  {
   "cell_type": "code",
   "execution_count": 87,
   "id": "appointed-advancement",
   "metadata": {},
   "outputs": [],
   "source": [
    "\n",
    "# Train test split, scale training and fit to both test and training, PCA the training set, SMOTE the training set and use the models\n",
    "# when testing remmeber to PCA the test set too"
   ]
  },
  {
   "cell_type": "markdown",
   "id": "maritime-geology",
   "metadata": {},
   "source": [
    "### Scaling Data"
   ]
  },
  {
   "cell_type": "markdown",
   "id": "opening-alexandria",
   "metadata": {},
   "source": [
    "Only scaling required for time and amount as v1-v28 columns have already been through PCA and they appear to have a standard distribution from the describe cell above."
   ]
  },
  {
   "cell_type": "code",
   "execution_count": 6,
   "id": "involved-patent",
   "metadata": {},
   "outputs": [],
   "source": [
    "from sklearn.preprocessing import StandardScaler\n",
    "scaler = StandardScaler()"
   ]
  },
  {
   "cell_type": "code",
   "execution_count": 7,
   "id": "approximate-pittsburgh",
   "metadata": {
    "scrolled": true
   },
   "outputs": [
    {
     "name": "stderr",
     "output_type": "stream",
     "text": [
      "C:\\Users\\kchun\\Anaconda3\\lib\\site-packages\\ipykernel_launcher.py:1: SettingWithCopyWarning: \n",
      "A value is trying to be set on a copy of a slice from a DataFrame.\n",
      "Try using .loc[row_indexer,col_indexer] = value instead\n",
      "\n",
      "See the caveats in the documentation: https://pandas.pydata.org/pandas-docs/stable/user_guide/indexing.html#returning-a-view-versus-a-copy\n",
      "  \"\"\"Entry point for launching an IPython kernel.\n",
      "C:\\Users\\kchun\\Anaconda3\\lib\\site-packages\\pandas\\core\\indexing.py:1738: SettingWithCopyWarning: \n",
      "A value is trying to be set on a copy of a slice from a DataFrame.\n",
      "Try using .loc[row_indexer,col_indexer] = value instead\n",
      "\n",
      "See the caveats in the documentation: https://pandas.pydata.org/pandas-docs/stable/user_guide/indexing.html#returning-a-view-versus-a-copy\n",
      "  self._setitem_single_column(loc, value[:, i].tolist(), pi)\n",
      "C:\\Users\\kchun\\Anaconda3\\lib\\site-packages\\pandas\\core\\frame.py:4315: SettingWithCopyWarning: \n",
      "A value is trying to be set on a copy of a slice from a DataFrame\n",
      "\n",
      "See the caveats in the documentation: https://pandas.pydata.org/pandas-docs/stable/user_guide/indexing.html#returning-a-view-versus-a-copy\n",
      "  errors=errors,\n"
     ]
    },
    {
     "data": {
      "text/html": [
       "<div>\n",
       "<style scoped>\n",
       "    .dataframe tbody tr th:only-of-type {\n",
       "        vertical-align: middle;\n",
       "    }\n",
       "\n",
       "    .dataframe tbody tr th {\n",
       "        vertical-align: top;\n",
       "    }\n",
       "\n",
       "    .dataframe thead th {\n",
       "        text-align: right;\n",
       "    }\n",
       "</style>\n",
       "<table border=\"1\" class=\"dataframe\">\n",
       "  <thead>\n",
       "    <tr style=\"text-align: right;\">\n",
       "      <th></th>\n",
       "      <th>V1</th>\n",
       "      <th>V2</th>\n",
       "      <th>V3</th>\n",
       "      <th>V4</th>\n",
       "      <th>V5</th>\n",
       "      <th>V6</th>\n",
       "      <th>V7</th>\n",
       "      <th>V8</th>\n",
       "      <th>V9</th>\n",
       "      <th>V10</th>\n",
       "      <th>...</th>\n",
       "      <th>V21</th>\n",
       "      <th>V22</th>\n",
       "      <th>V23</th>\n",
       "      <th>V24</th>\n",
       "      <th>V25</th>\n",
       "      <th>V26</th>\n",
       "      <th>V27</th>\n",
       "      <th>V28</th>\n",
       "      <th>time</th>\n",
       "      <th>amount</th>\n",
       "    </tr>\n",
       "  </thead>\n",
       "  <tbody>\n",
       "    <tr>\n",
       "      <th>157231</th>\n",
       "      <td>0.134458</td>\n",
       "      <td>0.938668</td>\n",
       "      <td>0.607946</td>\n",
       "      <td>-0.429366</td>\n",
       "      <td>0.717135</td>\n",
       "      <td>-0.945937</td>\n",
       "      <td>1.152150</td>\n",
       "      <td>-0.520039</td>\n",
       "      <td>1.283300</td>\n",
       "      <td>-0.597670</td>\n",
       "      <td>...</td>\n",
       "      <td>-0.449233</td>\n",
       "      <td>-0.651963</td>\n",
       "      <td>0.040094</td>\n",
       "      <td>-0.062357</td>\n",
       "      <td>-0.531119</td>\n",
       "      <td>0.074103</td>\n",
       "      <td>0.064638</td>\n",
       "      <td>-0.131181</td>\n",
       "      <td>0.313599</td>\n",
       "      <td>-0.334415</td>\n",
       "    </tr>\n",
       "    <tr>\n",
       "      <th>51857</th>\n",
       "      <td>-2.945453</td>\n",
       "      <td>2.762252</td>\n",
       "      <td>-1.184522</td>\n",
       "      <td>-0.486583</td>\n",
       "      <td>-0.797210</td>\n",
       "      <td>0.390805</td>\n",
       "      <td>-1.231602</td>\n",
       "      <td>2.363687</td>\n",
       "      <td>-0.945043</td>\n",
       "      <td>-0.308372</td>\n",
       "      <td>...</td>\n",
       "      <td>-0.088482</td>\n",
       "      <td>-0.652061</td>\n",
       "      <td>0.087204</td>\n",
       "      <td>-1.341101</td>\n",
       "      <td>0.179241</td>\n",
       "      <td>0.174962</td>\n",
       "      <td>-0.150901</td>\n",
       "      <td>-0.058858</td>\n",
       "      <td>-1.046736</td>\n",
       "      <td>-0.307571</td>\n",
       "    </tr>\n",
       "    <tr>\n",
       "      <th>29335</th>\n",
       "      <td>1.181140</td>\n",
       "      <td>0.012045</td>\n",
       "      <td>-0.230114</td>\n",
       "      <td>0.480563</td>\n",
       "      <td>-0.262595</td>\n",
       "      <td>-1.031772</td>\n",
       "      <td>0.296139</td>\n",
       "      <td>-0.127868</td>\n",
       "      <td>-0.181777</td>\n",
       "      <td>0.201140</td>\n",
       "      <td>...</td>\n",
       "      <td>0.024366</td>\n",
       "      <td>-0.119476</td>\n",
       "      <td>-0.132118</td>\n",
       "      <td>0.328298</td>\n",
       "      <td>0.554239</td>\n",
       "      <td>0.520277</td>\n",
       "      <td>-0.096858</td>\n",
       "      <td>-0.008734</td>\n",
       "      <td>-1.251688</td>\n",
       "      <td>-0.170638</td>\n",
       "    </tr>\n",
       "    <tr>\n",
       "      <th>225312</th>\n",
       "      <td>0.223618</td>\n",
       "      <td>0.768996</td>\n",
       "      <td>-1.345911</td>\n",
       "      <td>-1.076192</td>\n",
       "      <td>1.942128</td>\n",
       "      <td>0.018346</td>\n",
       "      <td>1.237840</td>\n",
       "      <td>-0.156497</td>\n",
       "      <td>-0.538158</td>\n",
       "      <td>-0.188735</td>\n",
       "      <td>...</td>\n",
       "      <td>0.130961</td>\n",
       "      <td>0.375863</td>\n",
       "      <td>-0.441035</td>\n",
       "      <td>-0.631969</td>\n",
       "      <td>0.310543</td>\n",
       "      <td>0.662996</td>\n",
       "      <td>-0.218154</td>\n",
       "      <td>-0.050981</td>\n",
       "      <td>1.039302</td>\n",
       "      <td>-0.344266</td>\n",
       "    </tr>\n",
       "    <tr>\n",
       "      <th>212485</th>\n",
       "      <td>-0.401708</td>\n",
       "      <td>1.330328</td>\n",
       "      <td>-0.527363</td>\n",
       "      <td>-0.740388</td>\n",
       "      <td>0.961769</td>\n",
       "      <td>-0.543675</td>\n",
       "      <td>0.862436</td>\n",
       "      <td>0.030536</td>\n",
       "      <td>-0.048999</td>\n",
       "      <td>-0.073830</td>\n",
       "      <td>...</td>\n",
       "      <td>-0.331332</td>\n",
       "      <td>-0.658166</td>\n",
       "      <td>0.109003</td>\n",
       "      <td>0.616607</td>\n",
       "      <td>-0.353793</td>\n",
       "      <td>0.099329</td>\n",
       "      <td>0.442398</td>\n",
       "      <td>0.205224</td>\n",
       "      <td>0.927233</td>\n",
       "      <td>-0.329784</td>\n",
       "    </tr>\n",
       "  </tbody>\n",
       "</table>\n",
       "<p>5 rows × 30 columns</p>\n",
       "</div>"
      ],
      "text/plain": [
       "              V1        V2        V3        V4        V5        V6        V7  \\\n",
       "157231  0.134458  0.938668  0.607946 -0.429366  0.717135 -0.945937  1.152150   \n",
       "51857  -2.945453  2.762252 -1.184522 -0.486583 -0.797210  0.390805 -1.231602   \n",
       "29335   1.181140  0.012045 -0.230114  0.480563 -0.262595 -1.031772  0.296139   \n",
       "225312  0.223618  0.768996 -1.345911 -1.076192  1.942128  0.018346  1.237840   \n",
       "212485 -0.401708  1.330328 -0.527363 -0.740388  0.961769 -0.543675  0.862436   \n",
       "\n",
       "              V8        V9       V10  ...       V21       V22       V23  \\\n",
       "157231 -0.520039  1.283300 -0.597670  ... -0.449233 -0.651963  0.040094   \n",
       "51857   2.363687 -0.945043 -0.308372  ... -0.088482 -0.652061  0.087204   \n",
       "29335  -0.127868 -0.181777  0.201140  ...  0.024366 -0.119476 -0.132118   \n",
       "225312 -0.156497 -0.538158 -0.188735  ...  0.130961  0.375863 -0.441035   \n",
       "212485  0.030536 -0.048999 -0.073830  ... -0.331332 -0.658166  0.109003   \n",
       "\n",
       "             V24       V25       V26       V27       V28      time    amount  \n",
       "157231 -0.062357 -0.531119  0.074103  0.064638 -0.131181  0.313599 -0.334415  \n",
       "51857  -1.341101  0.179241  0.174962 -0.150901 -0.058858 -1.046736 -0.307571  \n",
       "29335   0.328298  0.554239  0.520277 -0.096858 -0.008734 -1.251688 -0.170638  \n",
       "225312 -0.631969  0.310543  0.662996 -0.218154 -0.050981  1.039302 -0.344266  \n",
       "212485  0.616607 -0.353793  0.099329  0.442398  0.205224  0.927233 -0.329784  \n",
       "\n",
       "[5 rows x 30 columns]"
      ]
     },
     "execution_count": 7,
     "metadata": {},
     "output_type": "execute_result"
    }
   ],
   "source": [
    "X_train[['time','amount']] = scaler.fit_transform(X_train[['Time','Amount']])\n",
    "X_train.drop(['Time','Amount'],axis=1,inplace=True)\n",
    "X_train.head()"
   ]
  },
  {
   "cell_type": "code",
   "execution_count": 8,
   "id": "smaller-adjustment",
   "metadata": {},
   "outputs": [
    {
     "name": "stderr",
     "output_type": "stream",
     "text": [
      "C:\\Users\\kchun\\Anaconda3\\lib\\site-packages\\ipykernel_launcher.py:1: SettingWithCopyWarning: \n",
      "A value is trying to be set on a copy of a slice from a DataFrame.\n",
      "Try using .loc[row_indexer,col_indexer] = value instead\n",
      "\n",
      "See the caveats in the documentation: https://pandas.pydata.org/pandas-docs/stable/user_guide/indexing.html#returning-a-view-versus-a-copy\n",
      "  \"\"\"Entry point for launching an IPython kernel.\n",
      "C:\\Users\\kchun\\Anaconda3\\lib\\site-packages\\pandas\\core\\indexing.py:1738: SettingWithCopyWarning: \n",
      "A value is trying to be set on a copy of a slice from a DataFrame.\n",
      "Try using .loc[row_indexer,col_indexer] = value instead\n",
      "\n",
      "See the caveats in the documentation: https://pandas.pydata.org/pandas-docs/stable/user_guide/indexing.html#returning-a-view-versus-a-copy\n",
      "  self._setitem_single_column(loc, value[:, i].tolist(), pi)\n",
      "C:\\Users\\kchun\\Anaconda3\\lib\\site-packages\\pandas\\core\\frame.py:4315: SettingWithCopyWarning: \n",
      "A value is trying to be set on a copy of a slice from a DataFrame\n",
      "\n",
      "See the caveats in the documentation: https://pandas.pydata.org/pandas-docs/stable/user_guide/indexing.html#returning-a-view-versus-a-copy\n",
      "  errors=errors,\n"
     ]
    },
    {
     "data": {
      "text/html": [
       "<div>\n",
       "<style scoped>\n",
       "    .dataframe tbody tr th:only-of-type {\n",
       "        vertical-align: middle;\n",
       "    }\n",
       "\n",
       "    .dataframe tbody tr th {\n",
       "        vertical-align: top;\n",
       "    }\n",
       "\n",
       "    .dataframe thead th {\n",
       "        text-align: right;\n",
       "    }\n",
       "</style>\n",
       "<table border=\"1\" class=\"dataframe\">\n",
       "  <thead>\n",
       "    <tr style=\"text-align: right;\">\n",
       "      <th></th>\n",
       "      <th>V1</th>\n",
       "      <th>V2</th>\n",
       "      <th>V3</th>\n",
       "      <th>V4</th>\n",
       "      <th>V5</th>\n",
       "      <th>V6</th>\n",
       "      <th>V7</th>\n",
       "      <th>V8</th>\n",
       "      <th>V9</th>\n",
       "      <th>V10</th>\n",
       "      <th>...</th>\n",
       "      <th>V21</th>\n",
       "      <th>V22</th>\n",
       "      <th>V23</th>\n",
       "      <th>V24</th>\n",
       "      <th>V25</th>\n",
       "      <th>V26</th>\n",
       "      <th>V27</th>\n",
       "      <th>V28</th>\n",
       "      <th>time</th>\n",
       "      <th>amount</th>\n",
       "    </tr>\n",
       "  </thead>\n",
       "  <tbody>\n",
       "    <tr>\n",
       "      <th>8947</th>\n",
       "      <td>1.203972</td>\n",
       "      <td>-0.050744</td>\n",
       "      <td>0.685868</td>\n",
       "      <td>0.111088</td>\n",
       "      <td>-0.580873</td>\n",
       "      <td>-0.508674</td>\n",
       "      <td>-0.376760</td>\n",
       "      <td>-0.091840</td>\n",
       "      <td>1.729603</td>\n",
       "      <td>-0.626068</td>\n",
       "      <td>...</td>\n",
       "      <td>-0.248857</td>\n",
       "      <td>-0.485601</td>\n",
       "      <td>0.125194</td>\n",
       "      <td>0.066715</td>\n",
       "      <td>0.001834</td>\n",
       "      <td>0.894543</td>\n",
       "      <td>-0.087199</td>\n",
       "      <td>0.002358</td>\n",
       "      <td>-1.738446</td>\n",
       "      <td>-0.259454</td>\n",
       "    </tr>\n",
       "    <tr>\n",
       "      <th>132434</th>\n",
       "      <td>1.190539</td>\n",
       "      <td>-0.635601</td>\n",
       "      <td>0.483324</td>\n",
       "      <td>0.010465</td>\n",
       "      <td>-0.974681</td>\n",
       "      <td>-0.146851</td>\n",
       "      <td>-0.569827</td>\n",
       "      <td>0.137362</td>\n",
       "      <td>-0.859406</td>\n",
       "      <td>0.817072</td>\n",
       "      <td>...</td>\n",
       "      <td>-0.464753</td>\n",
       "      <td>-0.888368</td>\n",
       "      <td>0.128098</td>\n",
       "      <td>0.174264</td>\n",
       "      <td>0.141862</td>\n",
       "      <td>0.262030</td>\n",
       "      <td>-0.005072</td>\n",
       "      <td>0.008951</td>\n",
       "      <td>-0.313177</td>\n",
       "      <td>-0.190458</td>\n",
       "    </tr>\n",
       "    <tr>\n",
       "      <th>96397</th>\n",
       "      <td>-0.329875</td>\n",
       "      <td>0.861798</td>\n",
       "      <td>1.798172</td>\n",
       "      <td>0.625118</td>\n",
       "      <td>0.761882</td>\n",
       "      <td>-0.374504</td>\n",
       "      <td>-0.361625</td>\n",
       "      <td>-0.811521</td>\n",
       "      <td>-1.048522</td>\n",
       "      <td>-0.093410</td>\n",
       "      <td>...</td>\n",
       "      <td>0.663959</td>\n",
       "      <td>-0.753037</td>\n",
       "      <td>-1.200322</td>\n",
       "      <td>0.189334</td>\n",
       "      <td>1.081571</td>\n",
       "      <td>0.872160</td>\n",
       "      <td>0.028712</td>\n",
       "      <td>0.152577</td>\n",
       "      <td>-0.612928</td>\n",
       "      <td>-0.347249</td>\n",
       "    </tr>\n",
       "    <tr>\n",
       "      <th>282201</th>\n",
       "      <td>2.040114</td>\n",
       "      <td>-0.024724</td>\n",
       "      <td>-1.057893</td>\n",
       "      <td>0.407148</td>\n",
       "      <td>-0.048930</td>\n",
       "      <td>-1.107682</td>\n",
       "      <td>0.233318</td>\n",
       "      <td>-0.355955</td>\n",
       "      <td>0.419404</td>\n",
       "      <td>0.038227</td>\n",
       "      <td>...</td>\n",
       "      <td>-0.269932</td>\n",
       "      <td>-0.614491</td>\n",
       "      <td>0.331105</td>\n",
       "      <td>0.008802</td>\n",
       "      <td>-0.289330</td>\n",
       "      <td>0.197644</td>\n",
       "      <td>-0.063749</td>\n",
       "      <td>-0.057545</td>\n",
       "      <td>1.598007</td>\n",
       "      <td>-0.311966</td>\n",
       "    </tr>\n",
       "    <tr>\n",
       "      <th>220845</th>\n",
       "      <td>1.953349</td>\n",
       "      <td>0.649021</td>\n",
       "      <td>-0.773028</td>\n",
       "      <td>3.733690</td>\n",
       "      <td>0.401661</td>\n",
       "      <td>-0.529737</td>\n",
       "      <td>0.325374</td>\n",
       "      <td>-0.225032</td>\n",
       "      <td>-1.102374</td>\n",
       "      <td>1.556156</td>\n",
       "      <td>...</td>\n",
       "      <td>0.225311</td>\n",
       "      <td>0.658035</td>\n",
       "      <td>0.067528</td>\n",
       "      <td>0.029925</td>\n",
       "      <td>0.118953</td>\n",
       "      <td>0.130614</td>\n",
       "      <td>-0.046949</td>\n",
       "      <td>-0.052709</td>\n",
       "      <td>0.999706</td>\n",
       "      <td>-0.338340</td>\n",
       "    </tr>\n",
       "  </tbody>\n",
       "</table>\n",
       "<p>5 rows × 30 columns</p>\n",
       "</div>"
      ],
      "text/plain": [
       "              V1        V2        V3        V4        V5        V6        V7  \\\n",
       "8947    1.203972 -0.050744  0.685868  0.111088 -0.580873 -0.508674 -0.376760   \n",
       "132434  1.190539 -0.635601  0.483324  0.010465 -0.974681 -0.146851 -0.569827   \n",
       "96397  -0.329875  0.861798  1.798172  0.625118  0.761882 -0.374504 -0.361625   \n",
       "282201  2.040114 -0.024724 -1.057893  0.407148 -0.048930 -1.107682  0.233318   \n",
       "220845  1.953349  0.649021 -0.773028  3.733690  0.401661 -0.529737  0.325374   \n",
       "\n",
       "              V8        V9       V10  ...       V21       V22       V23  \\\n",
       "8947   -0.091840  1.729603 -0.626068  ... -0.248857 -0.485601  0.125194   \n",
       "132434  0.137362 -0.859406  0.817072  ... -0.464753 -0.888368  0.128098   \n",
       "96397  -0.811521 -1.048522 -0.093410  ...  0.663959 -0.753037 -1.200322   \n",
       "282201 -0.355955  0.419404  0.038227  ... -0.269932 -0.614491  0.331105   \n",
       "220845 -0.225032 -1.102374  1.556156  ...  0.225311  0.658035  0.067528   \n",
       "\n",
       "             V24       V25       V26       V27       V28      time    amount  \n",
       "8947    0.066715  0.001834  0.894543 -0.087199  0.002358 -1.738446 -0.259454  \n",
       "132434  0.174264  0.141862  0.262030 -0.005072  0.008951 -0.313177 -0.190458  \n",
       "96397   0.189334  1.081571  0.872160  0.028712  0.152577 -0.612928 -0.347249  \n",
       "282201  0.008802 -0.289330  0.197644 -0.063749 -0.057545  1.598007 -0.311966  \n",
       "220845  0.029925  0.118953  0.130614 -0.046949 -0.052709  0.999706 -0.338340  \n",
       "\n",
       "[5 rows x 30 columns]"
      ]
     },
     "execution_count": 8,
     "metadata": {},
     "output_type": "execute_result"
    }
   ],
   "source": [
    "X_test[['time','amount']] = scaler.transform(X_test[['Time','Amount']])\n",
    "X_test.drop(['Time','Amount'],axis=1,inplace=True)\n",
    "X_test.head()"
   ]
  },
  {
   "cell_type": "markdown",
   "id": "authentic-suggestion",
   "metadata": {},
   "source": [
    "### PCA "
   ]
  },
  {
   "cell_type": "code",
   "execution_count": 9,
   "id": "meaning-adolescent",
   "metadata": {},
   "outputs": [
    {
     "name": "stdout",
     "output_type": "stream",
     "text": [
      "Wall time: 726 ms\n"
     ]
    },
    {
     "data": {
      "text/plain": [
       "(198067, 9)"
      ]
     },
     "execution_count": 9,
     "metadata": {},
     "output_type": "execute_result"
    }
   ],
   "source": [
    "%%time\n",
    "from sklearn.decomposition import PCA\n",
    "pca = PCA(n_components=9,random_state=97)\n",
    "pca.fit(X_train)\n",
    "X_pca = pca.transform(X_train)\n",
    "X_test_pca = pca.transform(X_test)\n",
    "X_pca.shape"
   ]
  },
  {
   "cell_type": "code",
   "execution_count": 10,
   "id": "protective-jackson",
   "metadata": {},
   "outputs": [
    {
     "data": {
      "text/plain": [
       "Text(0, 0.5, 'Second Principal Component')"
      ]
     },
     "execution_count": 10,
     "metadata": {},
     "output_type": "execute_result"
    },
    {
     "data": {
      "image/png": "[encoded data removed]",
      "text/plain": [
       "<Figure size 576x432 with 1 Axes>"
      ]
     },
     "metadata": {
      "needs_background": "light"
     },
     "output_type": "display_data"
    }
   ],
   "source": [
    "plt.figure(figsize=(8,6))\n",
    "plt.scatter(X_pca[:,0],X_pca[:,1],c=y_train,cmap='plasma')\n",
    "plt.xlabel('First principal component')\n",
    "plt.ylabel('Second Principal Component')"
   ]
  },
  {
   "cell_type": "code",
   "execution_count": 11,
   "id": "surgical-colombia",
   "metadata": {},
   "outputs": [
    {
     "data": {
      "text/plain": [
       "array([12.03439579,  9.78217157,  7.98216009,  6.63645923,  6.13358193,\n",
       "        5.56020958,  4.86484227,  4.21332775,  3.76341218])"
      ]
     },
     "execution_count": 11,
     "metadata": {},
     "output_type": "execute_result"
    }
   ],
   "source": [
    "pca.explained_variance_ratio_*100"
   ]
  },
  {
   "cell_type": "code",
   "execution_count": 12,
   "id": "elementary-former",
   "metadata": {},
   "outputs": [
    {
     "name": "stdout",
     "output_type": "stream",
     "text": [
      "Total percent of variance captured with 9 PCA components is 60.97 %\n"
     ]
    }
   ],
   "source": [
    "print('Total percent of variance captured with 9 PCA components is',round(pca.explained_variance_ratio_.sum()*100,ndigits=2),'%')"
   ]
  },
  {
   "cell_type": "markdown",
   "id": "dedicated-medline",
   "metadata": {},
   "source": [
    "This shows the 9 components can retain 60% of the original variance."
   ]
  },
  {
   "cell_type": "markdown",
   "id": "mobile-pipeline",
   "metadata": {},
   "source": [
    "### Oversampling with SMOTE"
   ]
  },
  {
   "cell_type": "code",
   "execution_count": 13,
   "id": "direct-general",
   "metadata": {},
   "outputs": [
    {
     "name": "stdout",
     "output_type": "stream",
     "text": [
      "Before Counter({0: 197745, 1: 322})\n",
      "After Counter({0: 197745, 1: 197745})\n"
     ]
    }
   ],
   "source": [
    "from imblearn.over_sampling import SMOTE\n",
    "sm = SMOTE(random_state=97)\n",
    "X_train_res, y_train_res = sm.fit_resample(X_pca,y_train)\n",
    "\n",
    "from collections import Counter\n",
    "\n",
    "print(\"Before {}\".format(Counter(y_train)))\n",
    "print(\"After {}\".format(Counter(y_train_res)))\n"
   ]
  },
  {
   "cell_type": "markdown",
   "id": "careful-deficit",
   "metadata": {},
   "source": [
    "## Model Building - Logistic Regression"
   ]
  },
  {
   "cell_type": "code",
   "execution_count": 15,
   "id": "artificial-fashion",
   "metadata": {},
   "outputs": [
    {
     "name": "stdout",
     "output_type": "stream",
     "text": [
      "Wall time: 744 ms\n"
     ]
    },
    {
     "data": {
      "text/plain": [
       "LogisticRegression(random_state=97)"
      ]
     },
     "execution_count": 15,
     "metadata": {},
     "output_type": "execute_result"
    }
   ],
   "source": [
    "%%time\n",
    "from sklearn.linear_model import LogisticRegression\n",
    "\n",
    "logmodel = LogisticRegression(random_state=97)\n",
    "logmodel.fit(X_train_res,y_train_res)"
   ]
  },
  {
   "cell_type": "code",
   "execution_count": 16,
   "id": "useful-insert",
   "metadata": {},
   "outputs": [
    {
     "data": {
      "text/plain": [
       "0.9147074908526762"
      ]
     },
     "execution_count": 16,
     "metadata": {},
     "output_type": "execute_result"
    }
   ],
   "source": [
    "from sklearn.metrics import roc_curve\n",
    "from sklearn.metrics import roc_auc_score\n",
    "\n",
    "logpredict = logmodel.predict(X_test_pca)\n",
    "roc_log = roc_auc_score(y_test,logpredict)\n",
    "roc_log"
   ]
  },
  {
   "cell_type": "code",
   "execution_count": 17,
   "id": "comprehensive-richardson",
   "metadata": {},
   "outputs": [
    {
     "data": {
      "text/plain": [
       "<matplotlib.legend.Legend at 0x1f8e72b2390>"
      ]
     },
     "execution_count": 17,
     "metadata": {},
     "output_type": "execute_result"
    },
    {
     "data": {
      "image/png": "[encoded data removed]",
      "text/plain": [
       "<Figure size 432x288 with 1 Axes>"
      ]
     },
     "metadata": {
      "needs_background": "light"
     },
     "output_type": "display_data"
    }
   ],
   "source": [
    "ns_probs = [0 for _ in range(len(y_test))]\n",
    "lr_probs = logmodel.predict_proba(X_test_pca)\n",
    "lr_probs = lr_probs[:, 1]\n",
    "\n",
    "ns_fpr, ns_tpr, _ = roc_curve(y_test, ns_probs)\n",
    "lr_fpr, lr_tpr, _ = roc_curve(y_test, lr_probs)\n",
    "# plot the roc curve for the model\n",
    "plt.plot(ns_fpr, ns_tpr, linestyle='--', label='Dummy Classifer')\n",
    "plt.plot(lr_fpr, lr_tpr, marker='.', label='RFC')\n",
    "# axis labels\n",
    "plt.xlabel('False Positive Rate')\n",
    "plt.ylabel('True Positive Rate')\n",
    "# show the legend\n",
    "plt.legend()\n"
   ]
  },
  {
   "cell_type": "code",
   "execution_count": 18,
   "id": "several-helen",
   "metadata": {},
   "outputs": [
    {
     "name": "stdout",
     "output_type": "stream",
     "text": [
      "[[79503  5245]\n",
      " [   15   123]]\n",
      "\n",
      "\n",
      "              precision    recall  f1-score   support\n",
      "\n",
      "           0       1.00      0.94      0.97     84748\n",
      "           1       0.02      0.89      0.04       138\n",
      "\n",
      "    accuracy                           0.94     84886\n",
      "   macro avg       0.51      0.91      0.51     84886\n",
      "weighted avg       1.00      0.94      0.97     84886\n",
      "\n",
      "\n",
      "\n",
      "Accuracy score 93.80\n"
     ]
    }
   ],
   "source": [
    "from sklearn.metrics import classification_report,confusion_matrix,accuracy_score\n",
    "print(confusion_matrix(y_test,logpredict))\n",
    "print('\\n')\n",
    "print(classification_report(y_test,logpredict))\n",
    "print('\\n')\n",
    "print('Accuracy score {:.2f}'.format(accuracy_score(y_test,logpredict)*100))\n"
   ]
  },
  {
   "cell_type": "markdown",
   "id": "proof-poverty",
   "metadata": {},
   "source": [
    "## Model Building - SVC"
   ]
  },
  {
   "cell_type": "markdown",
   "id": "statewide-aspect",
   "metadata": {},
   "source": [
    "Since we have 400,000 rows of data, SVC will take too long to process as the fit time complexity is more than quadratic with the number of samples base on the big O notation. Hence we will use the first 100,000 rows of dataset which is random as the training phase already shuffled them."
   ]
  },
  {
   "cell_type": "code",
   "execution_count": 27,
   "id": "recovered-expression",
   "metadata": {},
   "outputs": [
    {
     "name": "stdout",
     "output_type": "stream",
     "text": [
      "[LibSVM]Wall time: 10.1 s\n"
     ]
    },
    {
     "data": {
      "text/plain": [
       "SVC(random_state=97, verbose=3)"
      ]
     },
     "execution_count": 27,
     "metadata": {},
     "output_type": "execute_result"
    }
   ],
   "source": [
    "%%time\n",
    "from sklearn.svm import SVC\n",
    "\n",
    "modelSVC = SVC(random_state=97,verbose=3)\n",
    "modelSVC.fit(X_train_res[:100000],y_train_res[:100000])"
   ]
  },
  {
   "cell_type": "code",
   "execution_count": 28,
   "id": "norman-toolbox",
   "metadata": {},
   "outputs": [
    {
     "data": {
      "text/plain": [
       "0.6883644981917405"
      ]
     },
     "execution_count": 28,
     "metadata": {},
     "output_type": "execute_result"
    }
   ],
   "source": [
    "SVCpredict = modelSVC.predict(X_test_pca)\n",
    "roc_SVC = roc_auc_score(y_test,SVCpredict)\n",
    "roc_SVC"
   ]
  },
  {
   "cell_type": "code",
   "execution_count": null,
   "id": "future-understanding",
   "metadata": {},
   "outputs": [
    {
     "name": "stdout",
     "output_type": "stream",
     "text": [
      "Fitting 5 folds for each of 25 candidates, totalling 125 fits\n",
      "[CV 1/5] END .....................C=0.1, gamma=1, kernel=rbf; total time= 2.6min\n",
      "[CV 2/5] END .....................C=0.1, gamma=1, kernel=rbf; total time= 2.7min\n",
      "[CV 3/5] END .....................C=0.1, gamma=1, kernel=rbf; total time= 2.8min\n",
      "[CV 4/5] END .....................C=0.1, gamma=1, kernel=rbf; total time= 2.7min\n",
      "[CV 5/5] END .....................C=0.1, gamma=1, kernel=rbf; total time= 2.5min\n",
      "[CV 1/5] END ...................C=0.1, gamma=0.1, kernel=rbf; total time= 1.2min\n",
      "[CV 2/5] END ...................C=0.1, gamma=0.1, kernel=rbf; total time= 1.2min\n",
      "[CV 3/5] END ...................C=0.1, gamma=0.1, kernel=rbf; total time= 1.4min\n",
      "[CV 4/5] END ...................C=0.1, gamma=0.1, kernel=rbf; total time=  13.3s\n",
      "[CV 5/5] END ...................C=0.1, gamma=0.1, kernel=rbf; total time=  13.3s\n",
      "[CV 1/5] END ..................C=0.1, gamma=0.01, kernel=rbf; total time=   2.5s\n",
      "[CV 2/5] END ..................C=0.1, gamma=0.01, kernel=rbf; total time=   2.7s\n",
      "[CV 3/5] END ..................C=0.1, gamma=0.01, kernel=rbf; total time=   2.4s\n",
      "[CV 4/5] END ..................C=0.1, gamma=0.01, kernel=rbf; total time=   2.3s\n",
      "[CV 5/5] END ..................C=0.1, gamma=0.01, kernel=rbf; total time=   2.3s\n",
      "[CV 1/5] END .................C=0.1, gamma=0.001, kernel=rbf; total time=   1.7s\n",
      "[CV 2/5] END .................C=0.1, gamma=0.001, kernel=rbf; total time=   1.8s\n",
      "[CV 3/5] END .................C=0.1, gamma=0.001, kernel=rbf; total time=   1.7s\n",
      "[CV 4/5] END .................C=0.1, gamma=0.001, kernel=rbf; total time=   1.7s\n",
      "[CV 5/5] END .................C=0.1, gamma=0.001, kernel=rbf; total time=   1.8s\n",
      "[CV 1/5] END ................C=0.1, gamma=0.0001, kernel=rbf; total time=   1.6s\n",
      "[CV 2/5] END ................C=0.1, gamma=0.0001, kernel=rbf; total time=   1.6s\n",
      "[CV 3/5] END ................C=0.1, gamma=0.0001, kernel=rbf; total time=   1.6s\n",
      "[CV 4/5] END ................C=0.1, gamma=0.0001, kernel=rbf; total time=   1.6s\n",
      "[CV 5/5] END ................C=0.1, gamma=0.0001, kernel=rbf; total time=   1.6s\n"
     ]
    }
   ],
   "source": [
    "from sklearn.model_selection import GridSearchCV\n",
    "\n",
    "param_grid = {'C': [0.1,1, 10, 100, 1000], 'gamma': [1,0.1,0.01,0.001,0.0001], 'kernel': ['rbf']}\n",
    "grid = GridSearchCV(SVC(random_state=97),param_grid,scoring='roc_auc',verbose=3)\n",
    "grid.fit(X_train_res[:100000],y_train_res[:100000])\n",
    "\n",
    "print('The best estimators are',grid.best_estimator_)\n",
    "print('\\n')\n",
    "print('The score for the model is',grid.score,'%')"
   ]
  },
  {
   "cell_type": "code",
   "execution_count": null,
   "id": "blocked-tractor",
   "metadata": {},
   "outputs": [],
   "source": [
    "grid_pred = grid.predict(X_test_pca)\n",
    "roc_grid = roc_auc_score(y_test,grid_pred)*100\n",
    "print('The roc_auc score for the model is',roc_grid,'%)'"
   ]
  },
  {
   "cell_type": "code",
   "execution_count": null,
   "id": "public-payday",
   "metadata": {},
   "outputs": [],
   "source": []
  }
 ],
 "metadata": {
  "kernelspec": {
   "display_name": "Python 3",
   "language": "python",
   "name": "python3"
  },
  "language_info": {
   "codemirror_mode": {
    "name": "ipython",
    "version": 3
   },
   "file_extension": ".py",
   "mimetype": "text/x-python",
   "name": "python",
   "nbconvert_exporter": "python",
   "pygments_lexer": "ipython3",
   "version": "3.7.3"
  }
 },
 "nbformat": 4,
 "nbformat_minor": 5
}
